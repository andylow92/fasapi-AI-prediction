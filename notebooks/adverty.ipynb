{
 "cells": [
  {
   "cell_type": "code",
   "execution_count": 8,
   "metadata": {},
   "outputs": [],
   "source": [
    "import pandas as pd\n",
    "from sklearn.model_selection import train_test_split, cross_val_score\n",
    "from sklearn.preprocessing import StandardScaler\n",
    "from sklearn.linear_model import Lasso, Ridge\n",
    "from sklearn.ensemble import RandomForestRegressor\n",
    "from xgboost import XGBRegressor\n",
    "from sklearn.pipeline import make_pipeline\n",
    "\n",
    "# Load data\n",
    "df = pd.read_csv(\"https://raw.githubusercontent.com/erkansirin78/datasets/master/Advertising.csv\")\n",
    "X = df.iloc[:, 1:-1].values\n",
    "y = df.iloc[:, -1].values\n"
   ]
  },
  {
   "cell_type": "code",
   "execution_count": 9,
   "metadata": {},
   "outputs": [],
   "source": [
    "# Define models\n",
    "models = {\n",
    "    \"RandomForest\": RandomForestRegressor(n_estimators=200),\n",
    "    \"XGBoost\": XGBRegressor(n_estimators=200, learning_rate=0.1),\n",
    "    \"Lasso\": make_pipeline(StandardScaler(), Lasso(alpha=0.1)),\n",
    "    \"Ridge\": make_pipeline(StandardScaler(), Ridge(alpha=1.0))\n",
    "}\n"
   ]
  },
  {
   "cell_type": "code",
   "execution_count": 15,
   "metadata": {},
   "outputs": [
    {
     "name": "stdout",
     "output_type": "stream",
     "text": [
      "RandomForest: Average R2 = 0.9754, Std = 0.0087\n",
      "XGBoost: Average R2 = 0.9719, Std = 0.0103\n",
      "Lasso: Average R2 = 0.8886, Std = 0.0396\n",
      "Ridge: Average R2 = 0.8872, Std = 0.0407\n"
     ]
    }
   ],
   "source": [
    "cv_scores = {}\n",
    "\n",
    "for name, model in models.items():\n",
    "    scores = cross_val_score(model, X, y, cv=5, scoring='r2')\n",
    "    cv_scores[name] = scores\n",
    "    print(f\"{name}: Average R2 = {scores.mean():.4f}, Std = {scores.std():.4f}\")"
   ]
  },
  {
   "cell_type": "code",
   "execution_count": 14,
   "metadata": {},
   "outputs": [
    {
     "name": "stdout",
     "output_type": "stream",
     "text": [
      "   ID     TV  Radio  Newspaper  Sales\n",
      "0   1  230.1   37.8       69.2   22.1\n",
      "1   2   44.5   39.3       45.1   10.4\n",
      "2   3   17.2   45.9       69.3    9.3\n",
      "3   4  151.5   41.3       58.5   18.5\n",
      "4   5  180.8   10.8       58.4   12.9\n",
      "(200, 3)\n",
      "[[230.1  37.8  69.2]\n",
      " [ 44.5  39.3  45.1]\n",
      " [ 17.2  45.9  69.3]]\n",
      "(200,)\n",
      "0    22.1\n",
      "1    10.4\n",
      "2     9.3\n",
      "3    18.5\n",
      "4    12.9\n",
      "5     7.2\n",
      "Name: Sales, dtype: float64\n",
      "R2: 0.9807482084762262\n",
      "X_manual_test [[222.3, 33.4, 57.2]]\n",
      "prediction: [19.665]\n"
     ]
    }
   ],
   "source": [
    "import pandas as pd\n",
    "from sklearn.model_selection import train_test_split\n",
    "from sklearn.ensemble import RandomForestRegressor\n",
    "import joblib\n",
    "from sklearn.metrics import r2_score\n",
    "import os \n",
    "\n",
    "\n",
    "\n",
    "# Create the directory if it does not exist\n",
    "model_directory = \"../save-model\"\n",
    "if not os.path.exists(model_directory):\n",
    "    os.makedirs(model_directory)\n",
    "\n",
    "# read data\n",
    "df = pd.read_csv(\"https://raw.githubusercontent.com/erkansirin78/datasets/master/Advertising.csv\")\n",
    "print(df.head())\n",
    "\n",
    "# Feature matrix\n",
    "X = df.iloc[:, 1:-1].values\n",
    "print(X.shape)\n",
    "print(X[:3])\n",
    "\n",
    "# Output variable\n",
    "y = df.iloc[:, -1]\n",
    "print(y.shape)\n",
    "print(y[:6])\n",
    "\n",
    "# split test train\n",
    "X_train, X_test, y_train, y_test = train_test_split(X, y, test_size=0.33, random_state=42)\n",
    "\n",
    "# train model\n",
    "forest = RandomForestRegressor(n_estimators=200)\n",
    "forest.fit(X_train, y_train)\n",
    "\n",
    "# Test model\n",
    "y_pred = forest.predict(X_test)\n",
    "r2 = r2_score(y_true=y_test, y_pred=y_pred)\n",
    "print(f\"R2: {r2}\")\n",
    "\n",
    "# Save Model\n",
    "joblib.dump(forest, f\"{model_directory}/random-forest-ads.pkl\")\n",
    "\n",
    "# make predictions\n",
    "# Read models\n",
    "estimator_loaded = joblib.load(\"../save-model/random-forest-ads.pkl\")\n",
    "# Prediction set\n",
    "X_manual_test = [[222.3,33.4,57.2]]\n",
    "print(\"X_manual_test\", X_manual_test)\n",
    "prediction = forest.predict(X_manual_test)\n",
    "print(f\"prediction: {prediction}\")"
   ]
  },
  {
   "cell_type": "code",
   "execution_count": 13,
   "metadata": {},
   "outputs": [
    {
     "name": "stdout",
     "output_type": "stream",
     "text": [
      "   ID     TV  Radio  Newspaper  Sales\n",
      "0   1  230.1   37.8       69.2   22.1\n",
      "1   2   44.5   39.3       45.1   10.4\n",
      "2   3   17.2   45.9       69.3    9.3\n",
      "3   4  151.5   41.3       58.5   18.5\n",
      "4   5  180.8   10.8       58.4   12.9\n",
      "R2: 0.9650897027405347\n",
      "prediction: 20.399276733398438\n"
     ]
    }
   ],
   "source": [
    "import pandas as pd\n",
    "from sklearn.model_selection import train_test_split\n",
    "from xgboost import XGBRegressor\n",
    "from sklearn.metrics import r2_score\n",
    "import os\n",
    "import joblib\n",
    "\n",
    "\n",
    "# Create the directory if it does not exist\n",
    "model_directory = \"../save-model\"\n",
    "if not os.path.exists(model_directory):\n",
    "    os.makedirs(model_directory)\n",
    "\n",
    "# read data\n",
    "df = pd.read_csv(\"https://raw.githubusercontent.com/erkansirin78/datasets/master/Advertising.csv\")\n",
    "print(df.head())\n",
    "\n",
    "# Feature matrix and output variable\n",
    "X = df.iloc[:, 1:-1].values\n",
    "y = df.iloc[:, -1]\n",
    "\n",
    "# split test train\n",
    "X_train, X_test, y_train, y_test = train_test_split(X, y, test_size=0.33, random_state=42)\n",
    "\n",
    "# train model with XGBoost\n",
    "xgb_model = XGBRegressor(n_estimators=200, learning_rate=0.1)\n",
    "xgb_model.fit(X_train, y_train)\n",
    "\n",
    "# Test model\n",
    "y_pred = xgb_model.predict(X_test)\n",
    "r2 = r2_score(y_test, y_pred)\n",
    "print(f\"R2: {r2}\")\n",
    "\n",
    "# Save Model\n",
    "joblib.dump(xgb_model, f\"{model_directory}/xgboost-ads.pkl\")\n",
    "# make predictions\n",
    "# Read models\n",
    "estimator_loaded = joblib.load(\"../save-model/xgboost-ads.pkl\")\n",
    "\n",
    "# Prediction set\n",
    "X_manual_test = [[222.3,33.4,57.2]]\n",
    "prediction = estimator_loaded.predict(X_manual_test)\n",
    "print(f\"prediction: {prediction[0]}\")"
   ]
  }
 ],
 "metadata": {
  "interpreter": {
   "hash": "c7dee0e8ecfd4ce2e2030a7297cf13a2a2bb854aaff8c494e4b60923c95f7545"
  },
  "kernelspec": {
   "display_name": "Python 3.11.5 ('hindsight')",
   "language": "python",
   "name": "python3"
  },
  "language_info": {
   "codemirror_mode": {
    "name": "ipython",
    "version": 3
   },
   "file_extension": ".py",
   "mimetype": "text/x-python",
   "name": "python",
   "nbconvert_exporter": "python",
   "pygments_lexer": "ipython3",
   "version": "3.9.5"
  },
  "orig_nbformat": 4
 },
 "nbformat": 4,
 "nbformat_minor": 2
}
